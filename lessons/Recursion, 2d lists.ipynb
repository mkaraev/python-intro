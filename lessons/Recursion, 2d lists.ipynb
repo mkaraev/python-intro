{
 "cells": [
  {
   "cell_type": "code",
   "execution_count": 1,
   "id": "25750a83",
   "metadata": {},
   "outputs": [
    {
     "data": {
      "text/plain": [
       "'\\n1! = 1\\n\\nn! = 1 * 2 * ... *n\\nn! = 1 * 2 * ... * (n - 1) * n = (n - 1)! * n\\n5! = 4! * 5 = 3! * 4 * 5 = 2! * 3 * 4 * 5 = 1! * 2 * 3 * 4 * 5 = 1 * 2 * 3 * 4 * 5\\n'"
      ]
     },
     "execution_count": 1,
     "metadata": {},
     "output_type": "execute_result"
    }
   ],
   "source": [
    "\"\"\"\n",
    "1! = 1\n",
    "\n",
    "n! = 1 * 2 * ... *n\n",
    "n! = 1 * 2 * ... * (n - 1) * n = (n - 1)! * n\n",
    "5! = 4! * 5 = 3! * 4 * 5 = 2! * 3 * 4 * 5 = 1! * 2 * 3 * 4 * 5 = 1 * 2 * 3 * 4 * 5\n",
    "\"\"\"\n"
   ]
  },
  {
   "cell_type": "code",
   "execution_count": 12,
   "id": "8094cb7e",
   "metadata": {},
   "outputs": [
    {
     "name": "stdout",
     "output_type": "stream",
     "text": [
      "factorial(5)\n",
      "factorial(4)\n",
      "factorial(3)\n",
      "factorial(2)\n",
      "factorial(1)\n",
      "120\n"
     ]
    }
   ],
   "source": [
    "def factorial(n):\n",
    "    print(f\"factorial({n})\")\n",
    "    if n == 1:\n",
    "        return 1\n",
    "    \n",
    "    f = factorial(n - 1)\n",
    "    return f * n\n",
    "\n",
    "\"\"\"\n",
    "f(5) -> f(4) -> f(3) -> f(2) -> f(1)\n",
    "     <-         <- 2*3 <- 1 * 2  <- 1\n",
    "factorial(5) -> 24 * 5\n",
    "factorial(4) -> 6 * 4\n",
    "factorial(3) -> 2 * 3\n",
    "factorial(2) -> 1 * 2\n",
    "factorial(1) -> 1\n",
    "\"\"\"\n",
    "\"\"\"\n",
    "\n",
    "\n",
    "\"\"\"\n",
    "\n",
    "print(factorial(5))"
   ]
  },
  {
   "cell_type": "code",
   "execution_count": 13,
   "id": "749b7ffd",
   "metadata": {},
   "outputs": [
    {
     "data": {
      "text/plain": [
       "8"
      ]
     },
     "execution_count": 13,
     "metadata": {},
     "output_type": "execute_result"
    }
   ],
   "source": [
    "\"\"\"\n",
    "GCD = НОД\n",
    "НОД(a, b) = НОД(b, a % b) -> НОД(a % b, b % (a % b))\n",
    "НОД(a, 0) = a\n",
    "\"\"\"\n",
    "\n",
    "def gcd(a, b):\n",
    "    if b == 0:\n",
    "        return a\n",
    "\n",
    "    g = gcd(b, a % b)\n",
    "    return g\n",
    "\n",
    "gcd(16, 24)"
   ]
  },
  {
   "cell_type": "code",
   "execution_count": 7,
   "id": "68da3f35",
   "metadata": {},
   "outputs": [
    {
     "data": {
      "text/plain": [
       "8"
      ]
     },
     "execution_count": 7,
     "metadata": {},
     "output_type": "execute_result"
    }
   ],
   "source": [
    "\"\"\"\n",
    "            president\n",
    "                |\n",
    "            vice president\n",
    "        /  / / / ... \\ \\ \\ \\\n",
    "    m1 \n",
    "\n",
    "\"\"\""
   ]
  },
  {
   "cell_type": "code",
   "execution_count": 14,
   "id": "55af4cd5",
   "metadata": {},
   "outputs": [
    {
     "name": "stdout",
     "output_type": "stream",
     "text": [
      "[1, 2, 3, [1, 2, 3, 4]]\n"
     ]
    }
   ],
   "source": [
    "numbers = [1, 2, 3, [1, 2, 3, 4]]\n",
    "print(numbers)"
   ]
  },
  {
   "cell_type": "code",
   "execution_count": 16,
   "id": "255ac9d6",
   "metadata": {},
   "outputs": [
    {
     "data": {
      "text/plain": [
       "2"
      ]
     },
     "execution_count": 16,
     "metadata": {},
     "output_type": "execute_result"
    }
   ],
   "source": [
    "numbers[3][1]"
   ]
  },
  {
   "cell_type": "code",
   "execution_count": 24,
   "id": "4850ad1d",
   "metadata": {},
   "outputs": [
    {
     "name": "stdout",
     "output_type": "stream",
     "text": [
      "False\n",
      "True\n"
     ]
    }
   ],
   "source": [
    "\"\"\"\n",
    " j 0 1 2\n",
    "i  -----\n",
    "0| 0 1 0\n",
    "1| 1 0 1\n",
    "2| 1 0 1\n",
    "\n",
    "[\n",
    "  [0, 0, 1],\n",
    "  [1, 0, 1],\n",
    "  [1, 0, 1]\n",
    "]\n",
    "\n",
    "1 1 1 1 1 1\n",
    "1 1 0 1 1 1\n",
    "1 0 0 1 1 1\n",
    "0 0 0 0 1 1\n",
    "0 0 0 1 0 1\n",
    "\n",
    "\"\"\"\n",
    "\n",
    "\n",
    "def find_square(table):\n",
    "    n = len(table)\n",
    "    for i in range(n - 1):\n",
    "        for j in range(n - 1):\n",
    "            if table[i][j] == 1 and table[i + 1][j] == 1 and table[i][j + 1] and table[i + 1][j + 1] == 1:\n",
    "                return True\n",
    "    \n",
    "    return False\n",
    "\n",
    "print(find_square([\n",
    "  [0, 0, 1],\n",
    "  [1, 0, 1],\n",
    "  [1, 0, 1]\n",
    "]))\n",
    "\n",
    "print(find_square([\n",
    "    [1, 1, 2],\n",
    "    [1, 1, 0],\n",
    "    [1, 0, 0]\n",
    "]))\n"
   ]
  },
  {
   "cell_type": "code",
   "execution_count": 29,
   "id": "eac50afe",
   "metadata": {},
   "outputs": [
    {
     "name": "stdout",
     "output_type": "stream",
     "text": [
      "4\n",
      "2 3\n",
      "0\n"
     ]
    }
   ],
   "source": [
    "numbers = [\n",
    "    [1, 1, 2],\n",
    "    [1, 1],\n",
    "    [1, 2, 3, [1, 2, 4]],\n",
    "    []\n",
    "]\n",
    "print(len(numbers))\n",
    "print(len(numbers[1]), len(numbers[0]))\n",
    "print(len(numbers[3]))"
   ]
  },
  {
   "cell_type": "code",
   "execution_count": 30,
   "id": "cb42606b",
   "metadata": {},
   "outputs": [
    {
     "data": {
      "text/plain": [
       "[]"
      ]
     },
     "execution_count": 30,
     "metadata": {},
     "output_type": "execute_result"
    }
   ],
   "source": [
    "numbers.pop()"
   ]
  },
  {
   "cell_type": "code",
   "execution_count": 31,
   "id": "32338028",
   "metadata": {},
   "outputs": [
    {
     "data": {
      "text/plain": [
       "[[1, 1, 2], [1, 1], [1, 2, 3, 4]]"
      ]
     },
     "execution_count": 31,
     "metadata": {},
     "output_type": "execute_result"
    }
   ],
   "source": [
    "numbers"
   ]
  },
  {
   "cell_type": "code",
   "execution_count": 32,
   "id": "27cc7fd3",
   "metadata": {},
   "outputs": [
    {
     "data": {
      "text/plain": [
       "1"
      ]
     },
     "execution_count": 32,
     "metadata": {},
     "output_type": "execute_result"
    }
   ],
   "source": [
    "numbers.index([1, 1])"
   ]
  },
  {
   "cell_type": "code",
   "execution_count": 33,
   "id": "2c649600",
   "metadata": {},
   "outputs": [
    {
     "ename": "ValueError",
     "evalue": "[] is not in list",
     "output_type": "error",
     "traceback": [
      "\u001b[0;31m---------------------------------------------------------------------------\u001b[0m",
      "\u001b[0;31mValueError\u001b[0m                                Traceback (most recent call last)",
      "\u001b[0;32m/var/folders/ww/4ds3x8755cn3w65fsrzzl0wh0000gn/T/ipykernel_36979/25876089.py\u001b[0m in \u001b[0;36m<module>\u001b[0;34m\u001b[0m\n\u001b[0;32m----> 1\u001b[0;31m \u001b[0mnumbers\u001b[0m\u001b[0;34m.\u001b[0m\u001b[0mindex\u001b[0m\u001b[0;34m(\u001b[0m\u001b[0;34m[\u001b[0m\u001b[0;34m]\u001b[0m\u001b[0;34m)\u001b[0m\u001b[0;34m\u001b[0m\u001b[0;34m\u001b[0m\u001b[0m\n\u001b[0m",
      "\u001b[0;31mValueError\u001b[0m: [] is not in list"
     ]
    }
   ],
   "source": [
    "numbers.index([])"
   ]
  },
  {
   "cell_type": "code",
   "execution_count": 34,
   "id": "ebd9b8d3",
   "metadata": {},
   "outputs": [],
   "source": [
    "table = [\n",
    "    list(range(5)),\n",
    "    list(range(5)),\n",
    "    list(range(5)),\n",
    "    list(range(5)),\n",
    "]"
   ]
  },
  {
   "cell_type": "code",
   "execution_count": 35,
   "id": "385a3119",
   "metadata": {},
   "outputs": [
    {
     "data": {
      "text/plain": [
       "[[0, 1, 2, 3, 4], [0, 1, 2, 3, 4], [0, 1, 2, 3, 4], [0, 1, 2, 3, 4]]"
      ]
     },
     "execution_count": 35,
     "metadata": {},
     "output_type": "execute_result"
    }
   ],
   "source": [
    "table"
   ]
  },
  {
   "cell_type": "code",
   "execution_count": 37,
   "id": "994e6353",
   "metadata": {},
   "outputs": [
    {
     "name": "stdout",
     "output_type": "stream",
     "text": [
      "[0, 1, 2, 3, 4]\n",
      "[0, 1, 2, 3, 4]\n",
      "[0, 1, 2, 3, 4]\n",
      "[0, 1, 2, 3, 4]\n"
     ]
    }
   ],
   "source": [
    "print(*table, sep='\\n')"
   ]
  },
  {
   "cell_type": "code",
   "execution_count": 46,
   "id": "bd711ac7",
   "metadata": {},
   "outputs": [
    {
     "name": "stdout",
     "output_type": "stream",
     "text": [
      "0 1 2 3 4\n",
      "0 1 2 3 4\n",
      "0 1 2 3 4\n",
      "0 1 2 3 4\n"
     ]
    }
   ],
   "source": [
    "def print_table(table):\n",
    "    for i in range(len(table)):\n",
    "        print(*table[i])\n",
    "\n",
    "print_table(table)"
   ]
  },
  {
   "cell_type": "code",
   "execution_count": 43,
   "id": "36f1a40b",
   "metadata": {},
   "outputs": [
    {
     "name": "stdout",
     "output_type": "stream",
     "text": [
      "(1, 2, 3)\n"
     ]
    }
   ],
   "source": [
    "print(1, 2, 3)"
   ]
  },
  {
   "cell_type": "code",
   "execution_count": null,
   "id": "10edb99d",
   "metadata": {},
   "outputs": [],
   "source": [
    "def f(*args):\n",
    "    pass\n",
    "\n",
    "numbers = [1, 2, 3]\n",
    "f(numbers)\n",
    "f(*numbers)"
   ]
  }
 ],
 "metadata": {
  "kernelspec": {
   "display_name": "Python 3 (ipykernel)",
   "language": "python",
   "name": "python3"
  },
  "language_info": {
   "codemirror_mode": {
    "name": "ipython",
    "version": 3
   },
   "file_extension": ".py",
   "mimetype": "text/x-python",
   "name": "python",
   "nbconvert_exporter": "python",
   "pygments_lexer": "ipython3",
   "version": "3.8.5"
  }
 },
 "nbformat": 4,
 "nbformat_minor": 5
}
