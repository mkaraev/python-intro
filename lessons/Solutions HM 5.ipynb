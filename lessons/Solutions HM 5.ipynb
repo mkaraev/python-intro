{
 "cells": [
  {
   "cell_type": "code",
   "execution_count": 2,
   "id": "840f753a",
   "metadata": {},
   "outputs": [
    {
     "name": "stdout",
     "output_type": "stream",
     "text": [
      "Tests passed\n"
     ]
    }
   ],
   "source": [
    "def unique(numbers):\n",
    "    \"\"\"\n",
    "    Дна список чисел. Некоторые числа в нем могут повторяться.\n",
    "    Верните новый список чисел, который состоит из чисел numbers, но уже без повторений.\n",
    "    \"\"\"\n",
    "    return list(set(numbers))\n",
    "\n",
    "\n",
    "def test_unique():\n",
    "    assert unique([1, 1, 2, 3, 4, 4, 5, 5]) == [1, 2, 3, 4, 5]\n",
    "    assert unique([1, 1, 1, 1]) == [1]\n",
    "    assert unique([]) == []\n",
    "    print(\"Tests passed\")\n",
    "\n",
    "test_unique()"
   ]
  },
  {
   "cell_type": "code",
   "execution_count": 7,
   "id": "56a8f0b4",
   "metadata": {},
   "outputs": [
    {
     "name": "stdout",
     "output_type": "stream",
     "text": [
      "Tests passed\n"
     ]
    }
   ],
   "source": [
    "from collections import Counter\n",
    "\n",
    "def count_words(strings):\n",
    "    \"\"\"\n",
    "    Дан список строк strings.\n",
    "    Нужно для каждой строки посчитать сколько раз она встретилось в списке.\n",
    "    \"\"\"\n",
    "    counter = {}\n",
    "    for string in strings:\n",
    "        count = strings.count(string)\n",
    "        counter.update({string: count})\n",
    "    \n",
    "    return counter\n",
    "\n",
    "\n",
    "def test_count_words():\n",
    "    assert count_words([\"text\", \"text\", \"apple\", \"orange\", \"yellow\", \"orange\"]) == {\n",
    "        \"text\": 2,\n",
    "        \"orange\": 2,\n",
    "        \"yellow\": 1,\n",
    "        \"apple\": 1\n",
    "    }\n",
    "    assert count_words([\"text\", \"text\", \"text\", \"text\", \"text\", \"orange\"]) == {\n",
    "        \"text\": 5,\n",
    "        \"orange\": 1,\n",
    "    }\n",
    "    assert count_words([]) == {}\n",
    "    print(\"Tests passed\")\n",
    "\n",
    "test_count_words()"
   ]
  },
  {
   "cell_type": "code",
   "execution_count": 6,
   "id": "34a6bd8e",
   "metadata": {},
   "outputs": [
    {
     "data": {
      "text/plain": [
       "Counter({'text': 2, 'apple': 1, 'orange': 2, 'yellow': 1})"
      ]
     },
     "execution_count": 6,
     "metadata": {},
     "output_type": "execute_result"
    }
   ],
   "source": [
    "Counter([\"text\", \"text\", \"apple\", \"orange\", \"yellow\", \"orange\"])"
   ]
  },
  {
   "cell_type": "code",
   "execution_count": 16,
   "id": "6e57edbc",
   "metadata": {},
   "outputs": [
    {
     "name": "stdout",
     "output_type": "stream",
     "text": [
      "Tests passed\n"
     ]
    }
   ],
   "source": [
    "def consistent_string(strings, allowed):\n",
    "    \"\"\"\n",
    "    Дан список строк strings, и строка allowed, которая состоит из уникальных символов.\n",
    "    Реализуйте функцию, которая из списка строк strings отфильтрует только те, которые состоят из символов\n",
    "    содержащихся в allowed и не содержат других символов. Нужное вернуть множество(set) из нужных строк.\n",
    "    \"\"\"\n",
    "    result = set()\n",
    "    allowed_set = set(allowed)\n",
    "    for string in strings:\n",
    "        string_set = set(string)\n",
    "        if string_set.issubset(allowed_set):\n",
    "            result.add(string)\n",
    "\n",
    "    return result\n",
    "\n",
    "\n",
    "def test_consistent_string():\n",
    "    assert consistent_string(allowed=\"ab\", strings=[\"ad\", \"bd\", \"aaab\", \"baa\", \"badab\"]) == {\"aaab\", \"baa\"}\n",
    "    assert consistent_string(allowed=\"abc\", strings=[\"a\", \"b\", \"c\", \"ab\", \"ac\", \"bc\", \"abc\"]) == {\"a\", \"b\", \"c\", \"ab\",\n",
    "                                                                                                  \"ac\", \"bc\", \"abc\"}\n",
    "    assert consistent_string(allowed=\"cad\", strings=[\"cc\", \"acd\", \"b\", \"ba\", \"bac\", \"bad\", \"ac\", \"d\"]) == {\"cc\", \"acd\",\"ac\", \"d\"}\n",
    "    print(\"Tests passed\")\n",
    "\n",
    "test_consistent_string()"
   ]
  },
  {
   "cell_type": "code",
   "execution_count": 18,
   "id": "761f08a6",
   "metadata": {},
   "outputs": [
    {
     "name": "stdout",
     "output_type": "stream",
     "text": [
      "Tests passed\n"
     ]
    }
   ],
   "source": [
    "def sort_desc(strings):\n",
    "    \"\"\"\n",
    "    Дан список строк. Отсортируйте его в порядке обратном алфавитному.\n",
    "    \"\"\"\n",
    "    strings.sort(reverse=True)\n",
    "    return strings\n",
    "\n",
    "\n",
    "def test_sort_desc():\n",
    "    assert sort_desc([\"ad\", \"bd\", \"aaab\", \"baa\", \"badab\"]) == ['bd', 'badab', 'baa', 'ad', 'aaab']\n",
    "    assert sort_desc([\"a\", \"b\", \"c\", \"ab\", \"ac\", \"bc\", \"abc\"]) == ['c', 'bc', 'b', 'ac', 'abc', 'ab', 'a']\n",
    "    print(\"Tests passed\")\n",
    "\n",
    "test_sort_desc()    \n",
    "    "
   ]
  },
  {
   "cell_type": "code",
   "execution_count": 20,
   "id": "792057de",
   "metadata": {},
   "outputs": [
    {
     "name": "stdout",
     "output_type": "stream",
     "text": [
      "Tests passed\n"
     ]
    }
   ],
   "source": [
    "def filter_even(numbers):\n",
    "    \"\"\"\n",
    "    При помощи встроенный функции фильтр, отфильтруйте только четные числа из списка numbers\n",
    "    в отсортированном по возрастанию порядке\n",
    "    \"\"\"\n",
    "    evens = list(filter(lambda number: number % 2 == 0, numbers))\n",
    "    evens.sort()\n",
    "    return evens\n",
    "\n",
    "\n",
    "def test_filter_even():\n",
    "    assert filter_even([1, 1, 2, 3, 4, 5, 6, 7, 8, 10, 12]) == [2, 4, 6, 8, 10, 12]\n",
    "    assert filter_even([2, 2, 4, 6, 6, 8, 10, 12]) == [2, 2, 4, 6, 6, 8, 10, 12]\n",
    "    assert filter_even([1, 1, 2, 3]) == [2]\n",
    "    assert filter_even([1, 3, 5]) == []\n",
    "    print(\"Tests passed\")\n",
    "\n",
    "test_filter_even()"
   ]
  },
  {
   "cell_type": "code",
   "execution_count": null,
   "id": "9ea7eb86",
   "metadata": {},
   "outputs": [],
   "source": []
  }
 ],
 "metadata": {
  "kernelspec": {
   "display_name": "Python 3 (ipykernel)",
   "language": "python",
   "name": "python3"
  },
  "language_info": {
   "codemirror_mode": {
    "name": "ipython",
    "version": 3
   },
   "file_extension": ".py",
   "mimetype": "text/x-python",
   "name": "python",
   "nbconvert_exporter": "python",
   "pygments_lexer": "ipython3",
   "version": "3.8.5"
  }
 },
 "nbformat": 4,
 "nbformat_minor": 5
}
